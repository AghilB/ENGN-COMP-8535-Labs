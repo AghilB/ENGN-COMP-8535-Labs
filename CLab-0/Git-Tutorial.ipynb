{
 "cells": [
  {
   "cell_type": "markdown",
   "id": "b1790c78",
   "metadata": {},
   "source": [
    "# Git and GitHub Tutorial\n",
    "## Course: ENGN/COMP8535 - Engineering Data Analytics\n",
    "### Tutor: Evan Markou\n",
    "#### Date : TODO"
   ]
  },
  {
   "cell_type": "markdown",
   "id": "ec97e71f",
   "metadata": {},
   "source": [
    "---"
   ]
  },
  {
   "cell_type": "markdown",
   "id": "19fc4379",
   "metadata": {},
   "source": [
    "## Important Glossary Terms\n",
    "\n",
    "- **git**: an open source, distributed version-control system\n",
    "- **GitHub**: a platform for hosting and collaborating on Git repositories\n",
    "- **commit**: a Git object, a snapshot of your entire repository compressed into a SHA\n",
    "- **branch**: a lightweight movable pointer to a commit\n",
    "- **clone**: a local version of a repository, including all commits and branches\n",
    "- **remote**: a common repository on GitHub that all team members use to exchange their changes\n",
    "- **fork**: a copy of a repository on GitHub owned by a different user\n",
    "- **pull request**: a place to compare and discuss the differences introduced on a branch with reviews, comments, integrated tests, and more\n",
    "- **HEAD**: representing your current working directory, the HEAD pointer can be moved to different branches, tags, or commits with using `git switch`"
   ]
  },
  {
   "cell_type": "markdown",
   "id": "1aec1001",
   "metadata": {},
   "source": [
    "---"
   ]
  },
  {
   "cell_type": "markdown",
   "id": "3ba23217",
   "metadata": {},
   "source": [
    "## Configure Tooling\n",
    "\n",
    "#### Configure user information for all local repositories\n",
    "\n",
    "To set the name you want attached to your commit transactions:\n",
    "\n",
    "`$ git config --global user.name \"[name]\"`\n",
    "\n",
    "To set the email you want attached to your commit transactions:\n",
    "\n",
    "`$ git config --global user.email \"[email address]\"`\n",
    "\n",
    "To enable helpful colourisation of the CMD:\n",
    "\n",
    "`$ git config --global color.ui auto`\n"
   ]
  },
  {
   "cell_type": "markdown",
   "id": "c30093fd",
   "metadata": {},
   "source": [
    "---"
   ]
  },
  {
   "cell_type": "markdown",
   "id": "be20487d",
   "metadata": {},
   "source": [
    "## Create Repositories\n",
    "\n",
    "#### A new repository can either be created locally, or an existing repository can be cloned. When a repository was initialised locally, you have to push it to GitHub afterwards.\n",
    "\n",
    "`$ git init`\n",
    "\n",
    "The git init command turns an existing directory into a new Git repository inside the folder you are running this command. After using this command, link the local repository to an empty GitHub repository using the following command:\n",
    "\n",
    "`$ git remote add origin [url]`\n",
    "\n",
    "This specifies the remote repository for your local repository. The url points to a repository on GitHub.\n",
    "\n",
    "In order to clone (download) a repository that already exists on GitHub, including all of the files, branches, and commits, use:\n",
    "\n",
    "`$ git clone [url]`"
   ]
  },
  {
   "cell_type": "markdown",
   "id": "38061f69",
   "metadata": {},
   "source": [
    "---"
   ]
  },
  {
   "cell_type": "markdown",
   "id": "f1eb09c8",
   "metadata": {},
   "source": [
    "## Branches\n",
    "\n",
    "**Branches are an important part of working with Git. Any commits you make will be made on the branch you're currently checked out. Use the command**  `git status` **to see which branch that is.**\n",
    "\n",
    "To create a new branch:\n",
    "\n",
    "`$ git branch [branch-name]`\n",
    "\n",
    "To switch to the specified branch and update the working directory:\n",
    "\n",
    "`$ git switch [branch-name]`\n",
    "\n",
    "To combine the specified branch's history into the current branch:\n",
    "\n",
    "`$ git merge [branch-name]`\n",
    "\n",
    "This is usually done in pull requests, but is an important Git operation.\n",
    "\n",
    "To delete the specified branch:\n",
    "\n",
    "`$ git branch -d [branch-name]`"
   ]
  },
  {
   "cell_type": "markdown",
   "id": "29889d95",
   "metadata": {},
   "source": [
    "---"
   ]
  },
  {
   "cell_type": "markdown",
   "id": "5a14030e",
   "metadata": {},
   "source": [
    "## Make Changes\n",
    "\n",
    "#### Browse and inspet the evolution of project files\n",
    "\n",
    "To list version history for the current branch:\n",
    "\n",
    "`$ git log`\n",
    "\n",
    "To list version history for a file, beyond renames (works only for a single file):\n",
    "\n",
    "`$ git log --follow [file]`\n",
    "\n",
    "To show content differences between two branches:\n",
    "\n",
    "`$ git diff [first-branch]...[second-branch]`\n",
    "\n",
    "To output metadata and content changes of the specified commit:\n",
    "\n",
    "`$ git show [commit]`\n",
    "\n",
    "To snapshot the file in preparation for versioning:\n",
    "\n",
    "`$ git add [file | . (for the whole directory)]`\n",
    "\n",
    "To record file snapshots permanently in version history:\n",
    "\n",
    "`$ git commit -m \"[descriptive message]\"`"
   ]
  },
  {
   "cell_type": "markdown",
   "id": "caed7826",
   "metadata": {},
   "source": [
    "---"
   ]
  },
  {
   "cell_type": "markdown",
   "id": "491368e9",
   "metadata": {},
   "source": [
    "## Redo Commits\n",
    "\n",
    "#### Erase mistakes and craft replacement history:\n",
    "\n",
    "To undo all commits after a specific commit, preserving changes locally:\n",
    "\n",
    "`$ git reset [commit]`\n",
    "\n",
    "To discard all history and changes back to the specific commit (CAUTION!):\n",
    "\n",
    "`$ git reset --hard [commit]`"
   ]
  },
  {
   "cell_type": "markdown",
   "id": "e60c3860",
   "metadata": {},
   "source": [
    "---"
   ]
  },
  {
   "cell_type": "markdown",
   "id": "e6fa8702",
   "metadata": {},
   "source": [
    "## Synchronise changes\n",
    "\n",
    "#### Synchronise your local repository with the remote repository on GitHub.\n",
    "\n",
    "To download all history from the remote tracking branches:\n",
    "\n",
    "`$ git fetch`\n",
    "\n",
    "To combine remote tracking branches into current local branch:\n",
    "\n",
    "`$ git merge`\n",
    "\n",
    "To upload all local branch commits to GitHub:\n",
    "\n",
    "`$ git push`\n",
    "\n",
    "To update your current local working branch with all new commits from the corresponding remote branch of GitHub:\n",
    "\n",
    "`$ git pull`\n",
    "\n",
    "Basically, git pull is a combination of git fetch and git merge."
   ]
  },
  {
   "cell_type": "markdown",
   "id": "4000e135",
   "metadata": {},
   "source": [
    "---"
   ]
  },
  {
   "cell_type": "markdown",
   "id": "350f2dcc",
   "metadata": {},
   "source": [
    "## Security and Authorisation\n",
    "\n",
    "#### Warning message: Support for password authentication was removed on August 13, 2021. Please use a personal access token instead. Please see https://github.blog/2020-12-15-token-authentication-requirements-for-git-operations/ for more information.\n",
    "\n",
    "GitHub account &rarr; Settings &rarr; Developer Settings &rarr; Personal Access Tokens &rarr; Generate new token"
   ]
  },
  {
   "cell_type": "markdown",
   "id": "2d98c36f",
   "metadata": {},
   "source": [
    "---"
   ]
  },
  {
   "cell_type": "markdown",
   "id": "2a499db9",
   "metadata": {},
   "source": [
    "## The .gitignore file\n",
    "\n",
    "Sometimes it may be a good idea to exlude files from being tracked with Git. This is typically done in a special file named `.gitignore`."
   ]
  },
  {
   "cell_type": "markdown",
   "id": "23f61949",
   "metadata": {},
   "source": [
    "---"
   ]
  },
  {
   "cell_type": "markdown",
   "id": "67db22eb",
   "metadata": {},
   "source": [
    "## Hands-On Practice\n",
    "\n",
    "#### Steps:\n",
    "\n",
    "1. Create a GitHub account or sign-in if you already have one.\n",
    "2. Go to the ENGN/COMP8535 course's repository (https://github.com/EvanMark/ENGN-COMP-8535-Labs)\n",
    "3. Fork the repository (press fork button in the top right corner of the page)\n",
    "4. Clone the project into your local directory - `$ git clone [your url]`\n",
    "5. Open jyputer notebook (if jyputer isn't installed on your system refer to https://jupyter.org/install)\n",
    "6. Change the markdown to include today's date (02 March, 2022)\n",
    "7. Commit your changes - `git add . | git commit -m 'fix date'`\n",
    "8. Push them to your forked GitHub repository - `git push`\n",
    "9. Verify that the changes were successfull on GitHub"
   ]
  }
 ],
 "metadata": {
  "kernelspec": {
   "display_name": "mlcv",
   "language": "python",
   "name": "mlcv"
  },
  "language_info": {
   "codemirror_mode": {
    "name": "ipython",
    "version": 3
   },
   "file_extension": ".py",
   "mimetype": "text/x-python",
   "name": "python",
   "nbconvert_exporter": "python",
   "pygments_lexer": "ipython3",
   "version": "3.8.10"
  }
 },
 "nbformat": 4,
 "nbformat_minor": 5
}
